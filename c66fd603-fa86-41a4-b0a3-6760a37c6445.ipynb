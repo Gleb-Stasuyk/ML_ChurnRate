{
 "cells": [
  {
   "cell_type": "markdown",
   "metadata": {},
   "source": [
    "# Анализ оттока клиентов фитнес клуба"
   ]
  },
  {
   "cell_type": "markdown",
   "metadata": {},
   "source": [
    "#### Обучим модель прогнозировать вероятнаость оттока;\n",
    "#### Выделим целевые группы клиентов для маркетингова отдела;<br>"
   ]
  },
  {
   "cell_type": "code",
   "execution_count": 1,
   "metadata": {},
   "outputs": [],
   "source": [
    "import pandas as pd\n",
    "import seaborn as sns\n",
    "import numpy as np\n",
    "import matplotlib.pyplot as plt\n",
    "from sklearn.preprocessing import StandardScaler\n",
    "from sklearn.model_selection import train_test_split\n",
    "from sklearn.linear_model import LogisticRegression\n",
    "from sklearn.metrics import accuracy_score, precision_score, recall_score, f1_score\n",
    "from sklearn.ensemble import RandomForestClassifier, GradientBoostingClassifier\n",
    "from scipy.cluster.hierarchy import dendrogram, linkage\n",
    "from sklearn.cluster import KMeans\n",
    "from sklearn.ensemble import GradientBoostingClassifier\n",
    "from sklearn.linear_model import Ridge\n",
    "from sklearn.preprocessing import LabelEncoder"
   ]
  },
  {
   "cell_type": "markdown",
   "metadata": {},
   "source": [
    "### Загрузим данные"
   ]
  },
  {
   "cell_type": "code",
   "execution_count": 2,
   "metadata": {},
   "outputs": [],
   "source": [
    "df = pd.read_csv('gym_dataset.csv')"
   ]
  },
  {
   "cell_type": "code",
   "execution_count": 3,
   "metadata": {},
   "outputs": [
    {
     "data": {
      "text/html": [
       "<div>\n",
       "<style scoped>\n",
       "    .dataframe tbody tr th:only-of-type {\n",
       "        vertical-align: middle;\n",
       "    }\n",
       "\n",
       "    .dataframe tbody tr th {\n",
       "        vertical-align: top;\n",
       "    }\n",
       "\n",
       "    .dataframe thead th {\n",
       "        text-align: right;\n",
       "    }\n",
       "</style>\n",
       "<table border=\"1\" class=\"dataframe\">\n",
       "  <thead>\n",
       "    <tr style=\"text-align: right;\">\n",
       "      <th></th>\n",
       "      <th>Pool</th>\n",
       "      <th>Personal_coach</th>\n",
       "      <th>Friend_invite</th>\n",
       "      <th>Phone</th>\n",
       "      <th>Subscription_mth</th>\n",
       "      <th>Class_visits</th>\n",
       "      <th>Age</th>\n",
       "      <th>Revenue_mth</th>\n",
       "      <th>Lifetime</th>\n",
       "      <th>AVG_class_mth</th>\n",
       "      <th>Churn_rate</th>\n",
       "      <th>Gender</th>\n",
       "    </tr>\n",
       "  </thead>\n",
       "  <tbody>\n",
       "    <tr>\n",
       "      <th>0</th>\n",
       "      <td>1</td>\n",
       "      <td>1</td>\n",
       "      <td>0</td>\n",
       "      <td>############</td>\n",
       "      <td>1</td>\n",
       "      <td>No</td>\n",
       "      <td>32</td>\n",
       "      <td>2599</td>\n",
       "      <td>0</td>\n",
       "      <td>2</td>\n",
       "      <td>1</td>\n",
       "      <td>Male</td>\n",
       "    </tr>\n",
       "    <tr>\n",
       "      <th>1</th>\n",
       "      <td>1</td>\n",
       "      <td>1</td>\n",
       "      <td>1</td>\n",
       "      <td>############</td>\n",
       "      <td>6</td>\n",
       "      <td>No</td>\n",
       "      <td>34</td>\n",
       "      <td>7094</td>\n",
       "      <td>1</td>\n",
       "      <td>0</td>\n",
       "      <td>0</td>\n",
       "      <td>Male</td>\n",
       "    </tr>\n",
       "    <tr>\n",
       "      <th>2</th>\n",
       "      <td>1</td>\n",
       "      <td>1</td>\n",
       "      <td>1</td>\n",
       "      <td>############</td>\n",
       "      <td>1</td>\n",
       "      <td>Yes</td>\n",
       "      <td>33</td>\n",
       "      <td>2682</td>\n",
       "      <td>9</td>\n",
       "      <td>0</td>\n",
       "      <td>0</td>\n",
       "      <td>Male</td>\n",
       "    </tr>\n",
       "    <tr>\n",
       "      <th>3</th>\n",
       "      <td>1</td>\n",
       "      <td>0</td>\n",
       "      <td>1</td>\n",
       "      <td>############</td>\n",
       "      <td>1</td>\n",
       "      <td>Yes</td>\n",
       "      <td>27</td>\n",
       "      <td>952</td>\n",
       "      <td>5</td>\n",
       "      <td>1</td>\n",
       "      <td>0</td>\n",
       "      <td>Male</td>\n",
       "    </tr>\n",
       "    <tr>\n",
       "      <th>4</th>\n",
       "      <td>1</td>\n",
       "      <td>0</td>\n",
       "      <td>0</td>\n",
       "      <td>############</td>\n",
       "      <td>1</td>\n",
       "      <td>No</td>\n",
       "      <td>34</td>\n",
       "      <td>2966</td>\n",
       "      <td>0</td>\n",
       "      <td>3</td>\n",
       "      <td>1</td>\n",
       "      <td>Female</td>\n",
       "    </tr>\n",
       "    <tr>\n",
       "      <th>5</th>\n",
       "      <td>1</td>\n",
       "      <td>0</td>\n",
       "      <td>0</td>\n",
       "      <td>############</td>\n",
       "      <td>1</td>\n",
       "      <td>No</td>\n",
       "      <td>30</td>\n",
       "      <td>5748</td>\n",
       "      <td>3</td>\n",
       "      <td>1</td>\n",
       "      <td>1</td>\n",
       "      <td>Male</td>\n",
       "    </tr>\n",
       "    <tr>\n",
       "      <th>6</th>\n",
       "      <td>1</td>\n",
       "      <td>0</td>\n",
       "      <td>0</td>\n",
       "      <td>############</td>\n",
       "      <td>12</td>\n",
       "      <td>Yes</td>\n",
       "      <td>28</td>\n",
       "      <td>4760</td>\n",
       "      <td>13</td>\n",
       "      <td>2</td>\n",
       "      <td>0</td>\n",
       "      <td>Male</td>\n",
       "    </tr>\n",
       "    <tr>\n",
       "      <th>7</th>\n",
       "      <td>1</td>\n",
       "      <td>0</td>\n",
       "      <td>0</td>\n",
       "      <td>############</td>\n",
       "      <td>6</td>\n",
       "      <td>Yes</td>\n",
       "      <td>36</td>\n",
       "      <td>6279</td>\n",
       "      <td>4</td>\n",
       "      <td>2</td>\n",
       "      <td>0</td>\n",
       "      <td>Male</td>\n",
       "    </tr>\n",
       "    <tr>\n",
       "      <th>8</th>\n",
       "      <td>1</td>\n",
       "      <td>1</td>\n",
       "      <td>1</td>\n",
       "      <td>############</td>\n",
       "      <td>6</td>\n",
       "      <td>No</td>\n",
       "      <td>32</td>\n",
       "      <td>2425</td>\n",
       "      <td>16</td>\n",
       "      <td>3</td>\n",
       "      <td>0</td>\n",
       "      <td>Female</td>\n",
       "    </tr>\n",
       "    <tr>\n",
       "      <th>9</th>\n",
       "      <td>1</td>\n",
       "      <td>0</td>\n",
       "      <td>0</td>\n",
       "      <td>############</td>\n",
       "      <td>12</td>\n",
       "      <td>No</td>\n",
       "      <td>34</td>\n",
       "      <td>2357</td>\n",
       "      <td>2</td>\n",
       "      <td>1</td>\n",
       "      <td>0</td>\n",
       "      <td>Male</td>\n",
       "    </tr>\n",
       "  </tbody>\n",
       "</table>\n",
       "</div>"
      ],
      "text/plain": [
       "   Pool  Personal_coach  Friend_invite         Phone  Subscription_mth  \\\n",
       "0     1               1              0  ############                 1   \n",
       "1     1               1              1  ############                 6   \n",
       "2     1               1              1  ############                 1   \n",
       "3     1               0              1  ############                 1   \n",
       "4     1               0              0  ############                 1   \n",
       "5     1               0              0  ############                 1   \n",
       "6     1               0              0  ############                12   \n",
       "7     1               0              0  ############                 6   \n",
       "8     1               1              1  ############                 6   \n",
       "9     1               0              0  ############                12   \n",
       "\n",
       "  Class_visits  Age  Revenue_mth  Lifetime  AVG_class_mth  Churn_rate  Gender  \n",
       "0           No   32         2599         0              2           1    Male  \n",
       "1           No   34         7094         1              0           0    Male  \n",
       "2          Yes   33         2682         9              0           0    Male  \n",
       "3          Yes   27          952         5              1           0    Male  \n",
       "4           No   34         2966         0              3           1  Female  \n",
       "5           No   30         5748         3              1           1    Male  \n",
       "6          Yes   28         4760        13              2           0    Male  \n",
       "7          Yes   36         6279         4              2           0    Male  \n",
       "8           No   32         2425        16              3           0  Female  \n",
       "9           No   34         2357         2              1           0    Male  "
      ]
     },
     "execution_count": 3,
     "metadata": {},
     "output_type": "execute_result"
    }
   ],
   "source": [
    "df.head(10)"
   ]
  },
  {
   "cell_type": "markdown",
   "metadata": {},
   "source": [
    "## EDA"
   ]
  },
  {
   "cell_type": "code",
   "execution_count": 4,
   "metadata": {},
   "outputs": [
    {
     "name": "stdout",
     "output_type": "stream",
     "text": [
      "<class 'pandas.core.frame.DataFrame'>\n",
      "RangeIndex: 3647 entries, 0 to 3646\n",
      "Data columns (total 12 columns):\n",
      " #   Column            Non-Null Count  Dtype \n",
      "---  ------            --------------  ----- \n",
      " 0   Pool              3647 non-null   int64 \n",
      " 1   Personal_coach    3647 non-null   int64 \n",
      " 2   Friend_invite     3647 non-null   int64 \n",
      " 3   Phone             3301 non-null   object\n",
      " 4   Subscription_mth  3647 non-null   int64 \n",
      " 5   Class_visits      3647 non-null   object\n",
      " 6   Age               3647 non-null   int64 \n",
      " 7   Revenue_mth       3647 non-null   int64 \n",
      " 8   Lifetime          3647 non-null   int64 \n",
      " 9   AVG_class_mth     3647 non-null   int64 \n",
      " 10  Churn_rate        3647 non-null   int64 \n",
      " 11  Gender            3647 non-null   object\n",
      "dtypes: int64(9), object(3)\n",
      "memory usage: 342.0+ KB\n"
     ]
    }
   ],
   "source": [
    "df.info()"
   ]
  },
  {
   "cell_type": "markdown",
   "metadata": {},
   "source": [
    "Преобразуем строковые значения колонок Class_visits, Phone, Gender  в бинарные, пропущеные значения телефоном заполним нулями <br>\n",
    "Проще всего сделать через map"
   ]
  },
  {
   "cell_type": "code",
   "execution_count": 5,
   "metadata": {},
   "outputs": [],
   "source": [
    "df['Gender'] = df['Gender'].map({'Female':1, 'Male':0}).astype('int64')\n",
    "df = df.fillna('0')\n",
    "df['Phone'] = df['Phone'].map({'############':1, '0':0}).astype('int64')"
   ]
  },
  {
   "cell_type": "markdown",
   "metadata": {},
   "source": [
    "Но можно и LabelEncoder использовать"
   ]
  },
  {
   "cell_type": "code",
   "execution_count": 6,
   "metadata": {},
   "outputs": [],
   "source": [
    "encoder =  LabelEncoder()\n",
    "df['Class_visits'] = encoder.fit_transform(df['Class_visits']).astype('int64') # 0 = No, 1 = Yes"
   ]
  },
  {
   "cell_type": "code",
   "execution_count": 7,
   "metadata": {},
   "outputs": [
    {
     "data": {
      "text/html": [
       "<div>\n",
       "<style scoped>\n",
       "    .dataframe tbody tr th:only-of-type {\n",
       "        vertical-align: middle;\n",
       "    }\n",
       "\n",
       "    .dataframe tbody tr th {\n",
       "        vertical-align: top;\n",
       "    }\n",
       "\n",
       "    .dataframe thead th {\n",
       "        text-align: right;\n",
       "    }\n",
       "</style>\n",
       "<table border=\"1\" class=\"dataframe\">\n",
       "  <thead>\n",
       "    <tr style=\"text-align: right;\">\n",
       "      <th></th>\n",
       "      <th>Pool</th>\n",
       "      <th>Personal_coach</th>\n",
       "      <th>Friend_invite</th>\n",
       "      <th>Phone</th>\n",
       "      <th>Subscription_mth</th>\n",
       "      <th>Class_visits</th>\n",
       "      <th>Age</th>\n",
       "      <th>Revenue_mth</th>\n",
       "      <th>Lifetime</th>\n",
       "      <th>AVG_class_mth</th>\n",
       "      <th>Churn_rate</th>\n",
       "      <th>Gender</th>\n",
       "    </tr>\n",
       "  </thead>\n",
       "  <tbody>\n",
       "    <tr>\n",
       "      <th>0</th>\n",
       "      <td>1</td>\n",
       "      <td>1</td>\n",
       "      <td>0</td>\n",
       "      <td>1</td>\n",
       "      <td>1</td>\n",
       "      <td>0</td>\n",
       "      <td>32</td>\n",
       "      <td>2599</td>\n",
       "      <td>0</td>\n",
       "      <td>2</td>\n",
       "      <td>1</td>\n",
       "      <td>0</td>\n",
       "    </tr>\n",
       "    <tr>\n",
       "      <th>1</th>\n",
       "      <td>1</td>\n",
       "      <td>1</td>\n",
       "      <td>1</td>\n",
       "      <td>1</td>\n",
       "      <td>6</td>\n",
       "      <td>0</td>\n",
       "      <td>34</td>\n",
       "      <td>7094</td>\n",
       "      <td>1</td>\n",
       "      <td>0</td>\n",
       "      <td>0</td>\n",
       "      <td>0</td>\n",
       "    </tr>\n",
       "    <tr>\n",
       "      <th>2</th>\n",
       "      <td>1</td>\n",
       "      <td>1</td>\n",
       "      <td>1</td>\n",
       "      <td>1</td>\n",
       "      <td>1</td>\n",
       "      <td>1</td>\n",
       "      <td>33</td>\n",
       "      <td>2682</td>\n",
       "      <td>9</td>\n",
       "      <td>0</td>\n",
       "      <td>0</td>\n",
       "      <td>0</td>\n",
       "    </tr>\n",
       "    <tr>\n",
       "      <th>3</th>\n",
       "      <td>1</td>\n",
       "      <td>0</td>\n",
       "      <td>1</td>\n",
       "      <td>1</td>\n",
       "      <td>1</td>\n",
       "      <td>1</td>\n",
       "      <td>27</td>\n",
       "      <td>952</td>\n",
       "      <td>5</td>\n",
       "      <td>1</td>\n",
       "      <td>0</td>\n",
       "      <td>0</td>\n",
       "    </tr>\n",
       "    <tr>\n",
       "      <th>4</th>\n",
       "      <td>1</td>\n",
       "      <td>0</td>\n",
       "      <td>0</td>\n",
       "      <td>1</td>\n",
       "      <td>1</td>\n",
       "      <td>0</td>\n",
       "      <td>34</td>\n",
       "      <td>2966</td>\n",
       "      <td>0</td>\n",
       "      <td>3</td>\n",
       "      <td>1</td>\n",
       "      <td>1</td>\n",
       "    </tr>\n",
       "    <tr>\n",
       "      <th>...</th>\n",
       "      <td>...</td>\n",
       "      <td>...</td>\n",
       "      <td>...</td>\n",
       "      <td>...</td>\n",
       "      <td>...</td>\n",
       "      <td>...</td>\n",
       "      <td>...</td>\n",
       "      <td>...</td>\n",
       "      <td>...</td>\n",
       "      <td>...</td>\n",
       "      <td>...</td>\n",
       "      <td>...</td>\n",
       "    </tr>\n",
       "    <tr>\n",
       "      <th>3642</th>\n",
       "      <td>1</td>\n",
       "      <td>1</td>\n",
       "      <td>0</td>\n",
       "      <td>1</td>\n",
       "      <td>12</td>\n",
       "      <td>0</td>\n",
       "      <td>36</td>\n",
       "      <td>77</td>\n",
       "      <td>8</td>\n",
       "      <td>2</td>\n",
       "      <td>0</td>\n",
       "      <td>1</td>\n",
       "    </tr>\n",
       "    <tr>\n",
       "      <th>3643</th>\n",
       "      <td>1</td>\n",
       "      <td>0</td>\n",
       "      <td>0</td>\n",
       "      <td>1</td>\n",
       "      <td>1</td>\n",
       "      <td>1</td>\n",
       "      <td>32</td>\n",
       "      <td>2204</td>\n",
       "      <td>1</td>\n",
       "      <td>0</td>\n",
       "      <td>1</td>\n",
       "      <td>0</td>\n",
       "    </tr>\n",
       "    <tr>\n",
       "      <th>3644</th>\n",
       "      <td>1</td>\n",
       "      <td>1</td>\n",
       "      <td>1</td>\n",
       "      <td>1</td>\n",
       "      <td>12</td>\n",
       "      <td>0</td>\n",
       "      <td>31</td>\n",
       "      <td>2504</td>\n",
       "      <td>2</td>\n",
       "      <td>2</td>\n",
       "      <td>0</td>\n",
       "      <td>1</td>\n",
       "    </tr>\n",
       "    <tr>\n",
       "      <th>3645</th>\n",
       "      <td>1</td>\n",
       "      <td>1</td>\n",
       "      <td>1</td>\n",
       "      <td>1</td>\n",
       "      <td>6</td>\n",
       "      <td>0</td>\n",
       "      <td>35</td>\n",
       "      <td>1981</td>\n",
       "      <td>3</td>\n",
       "      <td>1</td>\n",
       "      <td>0</td>\n",
       "      <td>0</td>\n",
       "    </tr>\n",
       "    <tr>\n",
       "      <th>3646</th>\n",
       "      <td>0</td>\n",
       "      <td>1</td>\n",
       "      <td>0</td>\n",
       "      <td>0</td>\n",
       "      <td>12</td>\n",
       "      <td>1</td>\n",
       "      <td>33</td>\n",
       "      <td>5724</td>\n",
       "      <td>1</td>\n",
       "      <td>1</td>\n",
       "      <td>0</td>\n",
       "      <td>1</td>\n",
       "    </tr>\n",
       "  </tbody>\n",
       "</table>\n",
       "<p>3647 rows × 12 columns</p>\n",
       "</div>"
      ],
      "text/plain": [
       "      Pool  Personal_coach  Friend_invite  Phone  Subscription_mth  \\\n",
       "0        1               1              0      1                 1   \n",
       "1        1               1              1      1                 6   \n",
       "2        1               1              1      1                 1   \n",
       "3        1               0              1      1                 1   \n",
       "4        1               0              0      1                 1   \n",
       "...    ...             ...            ...    ...               ...   \n",
       "3642     1               1              0      1                12   \n",
       "3643     1               0              0      1                 1   \n",
       "3644     1               1              1      1                12   \n",
       "3645     1               1              1      1                 6   \n",
       "3646     0               1              0      0                12   \n",
       "\n",
       "      Class_visits  Age  Revenue_mth  Lifetime  AVG_class_mth  Churn_rate  \\\n",
       "0                0   32         2599         0              2           1   \n",
       "1                0   34         7094         1              0           0   \n",
       "2                1   33         2682         9              0           0   \n",
       "3                1   27          952         5              1           0   \n",
       "4                0   34         2966         0              3           1   \n",
       "...            ...  ...          ...       ...            ...         ...   \n",
       "3642             0   36           77         8              2           0   \n",
       "3643             1   32         2204         1              0           1   \n",
       "3644             0   31         2504         2              2           0   \n",
       "3645             0   35         1981         3              1           0   \n",
       "3646             1   33         5724         1              1           0   \n",
       "\n",
       "      Gender  \n",
       "0          0  \n",
       "1          0  \n",
       "2          0  \n",
       "3          0  \n",
       "4          1  \n",
       "...      ...  \n",
       "3642       1  \n",
       "3643       0  \n",
       "3644       1  \n",
       "3645       0  \n",
       "3646       1  \n",
       "\n",
       "[3647 rows x 12 columns]"
      ]
     },
     "execution_count": 7,
     "metadata": {},
     "output_type": "execute_result"
    }
   ],
   "source": [
    "df"
   ]
  },
  {
   "cell_type": "code",
   "execution_count": 8,
   "metadata": {},
   "outputs": [
    {
     "name": "stdout",
     "output_type": "stream",
     "text": [
      "<class 'pandas.core.frame.DataFrame'>\n",
      "RangeIndex: 3647 entries, 0 to 3646\n",
      "Data columns (total 12 columns):\n",
      " #   Column            Non-Null Count  Dtype\n",
      "---  ------            --------------  -----\n",
      " 0   Pool              3647 non-null   int64\n",
      " 1   Personal_coach    3647 non-null   int64\n",
      " 2   Friend_invite     3647 non-null   int64\n",
      " 3   Phone             3647 non-null   int64\n",
      " 4   Subscription_mth  3647 non-null   int64\n",
      " 5   Class_visits      3647 non-null   int64\n",
      " 6   Age               3647 non-null   int64\n",
      " 7   Revenue_mth       3647 non-null   int64\n",
      " 8   Lifetime          3647 non-null   int64\n",
      " 9   AVG_class_mth     3647 non-null   int64\n",
      " 10  Churn_rate        3647 non-null   int64\n",
      " 11  Gender            3647 non-null   int64\n",
      "dtypes: int64(12)\n",
      "memory usage: 342.0 KB\n"
     ]
    }
   ],
   "source": [
    "df.info()"
   ]
  },
  {
   "cell_type": "code",
   "execution_count": 9,
   "metadata": {},
   "outputs": [
    {
     "data": {
      "text/html": [
       "<div>\n",
       "<style scoped>\n",
       "    .dataframe tbody tr th:only-of-type {\n",
       "        vertical-align: middle;\n",
       "    }\n",
       "\n",
       "    .dataframe tbody tr th {\n",
       "        vertical-align: top;\n",
       "    }\n",
       "\n",
       "    .dataframe thead th {\n",
       "        text-align: right;\n",
       "    }\n",
       "</style>\n",
       "<table border=\"1\" class=\"dataframe\">\n",
       "  <thead>\n",
       "    <tr style=\"text-align: right;\">\n",
       "      <th></th>\n",
       "      <th>Pool</th>\n",
       "      <th>Personal_coach</th>\n",
       "      <th>Friend_invite</th>\n",
       "      <th>Phone</th>\n",
       "      <th>Subscription_mth</th>\n",
       "      <th>Class_visits</th>\n",
       "      <th>Age</th>\n",
       "      <th>Revenue_mth</th>\n",
       "      <th>Lifetime</th>\n",
       "      <th>AVG_class_mth</th>\n",
       "      <th>Churn_rate</th>\n",
       "      <th>Gender</th>\n",
       "    </tr>\n",
       "  </thead>\n",
       "  <tbody>\n",
       "    <tr>\n",
       "      <th>count</th>\n",
       "      <td>3647.000000</td>\n",
       "      <td>3647.000000</td>\n",
       "      <td>3647.000000</td>\n",
       "      <td>3647.000000</td>\n",
       "      <td>3647.000000</td>\n",
       "      <td>3647.000000</td>\n",
       "      <td>3647.000000</td>\n",
       "      <td>3647.000000</td>\n",
       "      <td>3647.000000</td>\n",
       "      <td>3647.000000</td>\n",
       "      <td>3647.000000</td>\n",
       "      <td>3647.000000</td>\n",
       "    </tr>\n",
       "    <tr>\n",
       "      <th>mean</th>\n",
       "      <td>0.845627</td>\n",
       "      <td>0.488072</td>\n",
       "      <td>0.309021</td>\n",
       "      <td>0.905128</td>\n",
       "      <td>4.694818</td>\n",
       "      <td>0.414587</td>\n",
       "      <td>32.170551</td>\n",
       "      <td>4698.683301</td>\n",
       "      <td>3.744173</td>\n",
       "      <td>1.307102</td>\n",
       "      <td>0.264601</td>\n",
       "      <td>0.511379</td>\n",
       "    </tr>\n",
       "    <tr>\n",
       "      <th>std</th>\n",
       "      <td>0.361356</td>\n",
       "      <td>0.499926</td>\n",
       "      <td>0.462153</td>\n",
       "      <td>0.293079</td>\n",
       "      <td>4.555603</td>\n",
       "      <td>0.492718</td>\n",
       "      <td>3.269312</td>\n",
       "      <td>3080.903447</td>\n",
       "      <td>3.774365</td>\n",
       "      <td>1.032926</td>\n",
       "      <td>0.441181</td>\n",
       "      <td>0.499939</td>\n",
       "    </tr>\n",
       "    <tr>\n",
       "      <th>min</th>\n",
       "      <td>0.000000</td>\n",
       "      <td>0.000000</td>\n",
       "      <td>0.000000</td>\n",
       "      <td>0.000000</td>\n",
       "      <td>1.000000</td>\n",
       "      <td>0.000000</td>\n",
       "      <td>21.000000</td>\n",
       "      <td>5.000000</td>\n",
       "      <td>0.000000</td>\n",
       "      <td>0.000000</td>\n",
       "      <td>0.000000</td>\n",
       "      <td>0.000000</td>\n",
       "    </tr>\n",
       "    <tr>\n",
       "      <th>25%</th>\n",
       "      <td>1.000000</td>\n",
       "      <td>0.000000</td>\n",
       "      <td>0.000000</td>\n",
       "      <td>1.000000</td>\n",
       "      <td>1.000000</td>\n",
       "      <td>0.000000</td>\n",
       "      <td>30.000000</td>\n",
       "      <td>2218.500000</td>\n",
       "      <td>1.000000</td>\n",
       "      <td>0.000000</td>\n",
       "      <td>0.000000</td>\n",
       "      <td>0.000000</td>\n",
       "    </tr>\n",
       "    <tr>\n",
       "      <th>50%</th>\n",
       "      <td>1.000000</td>\n",
       "      <td>0.000000</td>\n",
       "      <td>0.000000</td>\n",
       "      <td>1.000000</td>\n",
       "      <td>1.000000</td>\n",
       "      <td>0.000000</td>\n",
       "      <td>32.000000</td>\n",
       "      <td>4365.000000</td>\n",
       "      <td>3.000000</td>\n",
       "      <td>1.000000</td>\n",
       "      <td>0.000000</td>\n",
       "      <td>1.000000</td>\n",
       "    </tr>\n",
       "    <tr>\n",
       "      <th>75%</th>\n",
       "      <td>1.000000</td>\n",
       "      <td>1.000000</td>\n",
       "      <td>1.000000</td>\n",
       "      <td>1.000000</td>\n",
       "      <td>6.000000</td>\n",
       "      <td>1.000000</td>\n",
       "      <td>34.000000</td>\n",
       "      <td>6730.000000</td>\n",
       "      <td>5.000000</td>\n",
       "      <td>2.000000</td>\n",
       "      <td>1.000000</td>\n",
       "      <td>1.000000</td>\n",
       "    </tr>\n",
       "    <tr>\n",
       "      <th>max</th>\n",
       "      <td>1.000000</td>\n",
       "      <td>1.000000</td>\n",
       "      <td>1.000000</td>\n",
       "      <td>1.000000</td>\n",
       "      <td>12.000000</td>\n",
       "      <td>1.000000</td>\n",
       "      <td>44.000000</td>\n",
       "      <td>17683.000000</td>\n",
       "      <td>31.000000</td>\n",
       "      <td>6.000000</td>\n",
       "      <td>1.000000</td>\n",
       "      <td>1.000000</td>\n",
       "    </tr>\n",
       "  </tbody>\n",
       "</table>\n",
       "</div>"
      ],
      "text/plain": [
       "              Pool  Personal_coach  Friend_invite        Phone  \\\n",
       "count  3647.000000     3647.000000    3647.000000  3647.000000   \n",
       "mean      0.845627        0.488072       0.309021     0.905128   \n",
       "std       0.361356        0.499926       0.462153     0.293079   \n",
       "min       0.000000        0.000000       0.000000     0.000000   \n",
       "25%       1.000000        0.000000       0.000000     1.000000   \n",
       "50%       1.000000        0.000000       0.000000     1.000000   \n",
       "75%       1.000000        1.000000       1.000000     1.000000   \n",
       "max       1.000000        1.000000       1.000000     1.000000   \n",
       "\n",
       "       Subscription_mth  Class_visits          Age   Revenue_mth     Lifetime  \\\n",
       "count       3647.000000   3647.000000  3647.000000   3647.000000  3647.000000   \n",
       "mean           4.694818      0.414587    32.170551   4698.683301     3.744173   \n",
       "std            4.555603      0.492718     3.269312   3080.903447     3.774365   \n",
       "min            1.000000      0.000000    21.000000      5.000000     0.000000   \n",
       "25%            1.000000      0.000000    30.000000   2218.500000     1.000000   \n",
       "50%            1.000000      0.000000    32.000000   4365.000000     3.000000   \n",
       "75%            6.000000      1.000000    34.000000   6730.000000     5.000000   \n",
       "max           12.000000      1.000000    44.000000  17683.000000    31.000000   \n",
       "\n",
       "       AVG_class_mth   Churn_rate       Gender  \n",
       "count    3647.000000  3647.000000  3647.000000  \n",
       "mean        1.307102     0.264601     0.511379  \n",
       "std         1.032926     0.441181     0.499939  \n",
       "min         0.000000     0.000000     0.000000  \n",
       "25%         0.000000     0.000000     0.000000  \n",
       "50%         1.000000     0.000000     1.000000  \n",
       "75%         2.000000     1.000000     1.000000  \n",
       "max         6.000000     1.000000     1.000000  "
      ]
     },
     "execution_count": 9,
     "metadata": {},
     "output_type": "execute_result"
    }
   ],
   "source": [
    "df.describe()"
   ]
  },
  {
   "cell_type": "code",
   "execution_count": 10,
   "metadata": {},
   "outputs": [
    {
     "data": {
      "text/html": [
       "<div>\n",
       "<style scoped>\n",
       "    .dataframe tbody tr th:only-of-type {\n",
       "        vertical-align: middle;\n",
       "    }\n",
       "\n",
       "    .dataframe tbody tr th {\n",
       "        vertical-align: top;\n",
       "    }\n",
       "\n",
       "    .dataframe thead th {\n",
       "        text-align: right;\n",
       "    }\n",
       "</style>\n",
       "<table border=\"1\" class=\"dataframe\">\n",
       "  <thead>\n",
       "    <tr style=\"text-align: right;\">\n",
       "      <th></th>\n",
       "      <th>Pool</th>\n",
       "      <th>Personal_coach</th>\n",
       "      <th>Friend_invite</th>\n",
       "      <th>Phone</th>\n",
       "      <th>Subscription_mth</th>\n",
       "      <th>Class_visits</th>\n",
       "      <th>Age</th>\n",
       "      <th>Revenue_mth</th>\n",
       "      <th>Lifetime</th>\n",
       "      <th>AVG_class_mth</th>\n",
       "      <th>Churn_rate</th>\n",
       "      <th>Gender</th>\n",
       "    </tr>\n",
       "  </thead>\n",
       "  <tbody>\n",
       "    <tr>\n",
       "      <th>count</th>\n",
       "      <td>965.000000</td>\n",
       "      <td>965.000000</td>\n",
       "      <td>965.000000</td>\n",
       "      <td>965.000000</td>\n",
       "      <td>965.000000</td>\n",
       "      <td>965.000000</td>\n",
       "      <td>965.000000</td>\n",
       "      <td>965.000000</td>\n",
       "      <td>965.000000</td>\n",
       "      <td>965.000000</td>\n",
       "      <td>965.0</td>\n",
       "      <td>965.000000</td>\n",
       "    </tr>\n",
       "    <tr>\n",
       "      <th>mean</th>\n",
       "      <td>0.765803</td>\n",
       "      <td>0.360622</td>\n",
       "      <td>0.183420</td>\n",
       "      <td>0.908808</td>\n",
       "      <td>1.759585</td>\n",
       "      <td>0.269430</td>\n",
       "      <td>29.978238</td>\n",
       "      <td>3637.907772</td>\n",
       "      <td>0.992746</td>\n",
       "      <td>0.636269</td>\n",
       "      <td>1.0</td>\n",
       "      <td>0.507772</td>\n",
       "    </tr>\n",
       "    <tr>\n",
       "      <th>std</th>\n",
       "      <td>0.423715</td>\n",
       "      <td>0.480430</td>\n",
       "      <td>0.387211</td>\n",
       "      <td>0.288031</td>\n",
       "      <td>2.190659</td>\n",
       "      <td>0.443894</td>\n",
       "      <td>2.891995</td>\n",
       "      <td>2466.585633</td>\n",
       "      <td>1.111497</td>\n",
       "      <td>0.728303</td>\n",
       "      <td>0.0</td>\n",
       "      <td>0.500199</td>\n",
       "    </tr>\n",
       "    <tr>\n",
       "      <th>min</th>\n",
       "      <td>0.000000</td>\n",
       "      <td>0.000000</td>\n",
       "      <td>0.000000</td>\n",
       "      <td>0.000000</td>\n",
       "      <td>1.000000</td>\n",
       "      <td>0.000000</td>\n",
       "      <td>21.000000</td>\n",
       "      <td>5.000000</td>\n",
       "      <td>0.000000</td>\n",
       "      <td>0.000000</td>\n",
       "      <td>1.0</td>\n",
       "      <td>0.000000</td>\n",
       "    </tr>\n",
       "    <tr>\n",
       "      <th>25%</th>\n",
       "      <td>1.000000</td>\n",
       "      <td>0.000000</td>\n",
       "      <td>0.000000</td>\n",
       "      <td>1.000000</td>\n",
       "      <td>1.000000</td>\n",
       "      <td>0.000000</td>\n",
       "      <td>28.000000</td>\n",
       "      <td>1616.000000</td>\n",
       "      <td>0.000000</td>\n",
       "      <td>0.000000</td>\n",
       "      <td>1.0</td>\n",
       "      <td>0.000000</td>\n",
       "    </tr>\n",
       "    <tr>\n",
       "      <th>50%</th>\n",
       "      <td>1.000000</td>\n",
       "      <td>0.000000</td>\n",
       "      <td>0.000000</td>\n",
       "      <td>1.000000</td>\n",
       "      <td>1.000000</td>\n",
       "      <td>0.000000</td>\n",
       "      <td>30.000000</td>\n",
       "      <td>3262.000000</td>\n",
       "      <td>1.000000</td>\n",
       "      <td>1.000000</td>\n",
       "      <td>1.0</td>\n",
       "      <td>1.000000</td>\n",
       "    </tr>\n",
       "    <tr>\n",
       "      <th>75%</th>\n",
       "      <td>1.000000</td>\n",
       "      <td>1.000000</td>\n",
       "      <td>0.000000</td>\n",
       "      <td>1.000000</td>\n",
       "      <td>1.000000</td>\n",
       "      <td>1.000000</td>\n",
       "      <td>32.000000</td>\n",
       "      <td>5253.000000</td>\n",
       "      <td>1.000000</td>\n",
       "      <td>1.000000</td>\n",
       "      <td>1.0</td>\n",
       "      <td>1.000000</td>\n",
       "    </tr>\n",
       "    <tr>\n",
       "      <th>max</th>\n",
       "      <td>1.000000</td>\n",
       "      <td>1.000000</td>\n",
       "      <td>1.000000</td>\n",
       "      <td>1.000000</td>\n",
       "      <td>12.000000</td>\n",
       "      <td>1.000000</td>\n",
       "      <td>41.000000</td>\n",
       "      <td>13617.000000</td>\n",
       "      <td>9.000000</td>\n",
       "      <td>3.000000</td>\n",
       "      <td>1.0</td>\n",
       "      <td>1.000000</td>\n",
       "    </tr>\n",
       "  </tbody>\n",
       "</table>\n",
       "</div>"
      ],
      "text/plain": [
       "             Pool  Personal_coach  Friend_invite       Phone  \\\n",
       "count  965.000000      965.000000     965.000000  965.000000   \n",
       "mean     0.765803        0.360622       0.183420    0.908808   \n",
       "std      0.423715        0.480430       0.387211    0.288031   \n",
       "min      0.000000        0.000000       0.000000    0.000000   \n",
       "25%      1.000000        0.000000       0.000000    1.000000   \n",
       "50%      1.000000        0.000000       0.000000    1.000000   \n",
       "75%      1.000000        1.000000       0.000000    1.000000   \n",
       "max      1.000000        1.000000       1.000000    1.000000   \n",
       "\n",
       "       Subscription_mth  Class_visits         Age   Revenue_mth    Lifetime  \\\n",
       "count        965.000000    965.000000  965.000000    965.000000  965.000000   \n",
       "mean           1.759585      0.269430   29.978238   3637.907772    0.992746   \n",
       "std            2.190659      0.443894    2.891995   2466.585633    1.111497   \n",
       "min            1.000000      0.000000   21.000000      5.000000    0.000000   \n",
       "25%            1.000000      0.000000   28.000000   1616.000000    0.000000   \n",
       "50%            1.000000      0.000000   30.000000   3262.000000    1.000000   \n",
       "75%            1.000000      1.000000   32.000000   5253.000000    1.000000   \n",
       "max           12.000000      1.000000   41.000000  13617.000000    9.000000   \n",
       "\n",
       "       AVG_class_mth  Churn_rate      Gender  \n",
       "count     965.000000       965.0  965.000000  \n",
       "mean        0.636269         1.0    0.507772  \n",
       "std         0.728303         0.0    0.500199  \n",
       "min         0.000000         1.0    0.000000  \n",
       "25%         0.000000         1.0    0.000000  \n",
       "50%         1.000000         1.0    1.000000  \n",
       "75%         1.000000         1.0    1.000000  \n",
       "max         3.000000         1.0    1.000000  "
      ]
     },
     "execution_count": 10,
     "metadata": {},
     "output_type": "execute_result"
    }
   ],
   "source": [
    "df.query('Churn_rate == \"1\"').describe()"
   ]
  },
  {
   "cell_type": "markdown",
   "metadata": {},
   "source": [
    "Четверть отваливается, не мало"
   ]
  },
  {
   "cell_type": "markdown",
   "metadata": {},
   "source": [
    "#### Разделим датасет на дискретные и неприрывные признаки"
   ]
  },
  {
   "cell_type": "code",
   "execution_count": 11,
   "metadata": {},
   "outputs": [],
   "source": [
    "not_bin_list = ['Revenue_mth', 'Age', 'Lifetime', 'AVG_class_mth', 'Subscription_mth']\n",
    "bin_list = ['Pool', 'Personal_coach', 'Friend_invite', 'Phone', 'Class_visits', 'Gender']"
   ]
  },
  {
   "cell_type": "code",
   "execution_count": 12,
   "metadata": {},
   "outputs": [
    {
     "data": {
      "text/html": [
       "<div>\n",
       "<style scoped>\n",
       "    .dataframe tbody tr th:only-of-type {\n",
       "        vertical-align: middle;\n",
       "    }\n",
       "\n",
       "    .dataframe tbody tr th {\n",
       "        vertical-align: top;\n",
       "    }\n",
       "\n",
       "    .dataframe thead th {\n",
       "        text-align: right;\n",
       "    }\n",
       "</style>\n",
       "<table border=\"1\" class=\"dataframe\">\n",
       "  <thead>\n",
       "    <tr style=\"text-align: right;\">\n",
       "      <th></th>\n",
       "      <th>Churn_rate</th>\n",
       "      <th>Pool</th>\n",
       "      <th>Personal_coach</th>\n",
       "      <th>Friend_invite</th>\n",
       "      <th>Phone</th>\n",
       "      <th>Subscription_mth</th>\n",
       "      <th>Class_visits</th>\n",
       "      <th>Age</th>\n",
       "      <th>Revenue_mth</th>\n",
       "      <th>Lifetime</th>\n",
       "      <th>AVG_class_mth</th>\n",
       "      <th>Gender</th>\n",
       "    </tr>\n",
       "  </thead>\n",
       "  <tbody>\n",
       "    <tr>\n",
       "      <th>0</th>\n",
       "      <td>0</td>\n",
       "      <td>0.874348</td>\n",
       "      <td>0.533930</td>\n",
       "      <td>0.354213</td>\n",
       "      <td>0.903803</td>\n",
       "      <td>5.750932</td>\n",
       "      <td>0.466816</td>\n",
       "      <td>32.959359</td>\n",
       "      <td>5080.356823</td>\n",
       "      <td>4.734154</td>\n",
       "      <td>1.548471</td>\n",
       "      <td>0.512677</td>\n",
       "    </tr>\n",
       "    <tr>\n",
       "      <th>1</th>\n",
       "      <td>1</td>\n",
       "      <td>0.765803</td>\n",
       "      <td>0.360622</td>\n",
       "      <td>0.183420</td>\n",
       "      <td>0.908808</td>\n",
       "      <td>1.759585</td>\n",
       "      <td>0.269430</td>\n",
       "      <td>29.978238</td>\n",
       "      <td>3637.907772</td>\n",
       "      <td>0.992746</td>\n",
       "      <td>0.636269</td>\n",
       "      <td>0.507772</td>\n",
       "    </tr>\n",
       "  </tbody>\n",
       "</table>\n",
       "</div>"
      ],
      "text/plain": [
       "   Churn_rate      Pool  Personal_coach  Friend_invite     Phone  \\\n",
       "0           0  0.874348        0.533930       0.354213  0.903803   \n",
       "1           1  0.765803        0.360622       0.183420  0.908808   \n",
       "\n",
       "   Subscription_mth  Class_visits        Age  Revenue_mth  Lifetime  \\\n",
       "0          5.750932      0.466816  32.959359  5080.356823  4.734154   \n",
       "1          1.759585      0.269430  29.978238  3637.907772  0.992746   \n",
       "\n",
       "   AVG_class_mth    Gender  \n",
       "0       1.548471  0.512677  \n",
       "1       0.636269  0.507772  "
      ]
     },
     "execution_count": 12,
     "metadata": {},
     "output_type": "execute_result"
    }
   ],
   "source": [
    "dfgp = df.groupby('Churn_rate').agg(['mean']).reset_index().droplevel(1, axis=1) \n",
    "dfgp"
   ]
  },
  {
   "cell_type": "markdown",
   "metadata": {},
   "source": [
    "На основании сгруппированых данных можно отметить, что наличие тренера или товарища в клубе благоприятно сказываются на клиентах, а вот \"новичкам\" взявшим месяц на \"попробовать\" тяжело видимо втянуться и они отваливаются."
   ]
  },
  {
   "cell_type": "code",
   "execution_count": 13,
   "metadata": {},
   "outputs": [
    {
     "data": {
      "image/png": "[encoded data removed]",
      "text/plain": [
       "<Figure size 1080x1080 with 5 Axes>"
      ]
     },
     "metadata": {
      "needs_background": "light"
     },
     "output_type": "display_data"
    }
   ],
   "source": [
    "fig = plt.figure(figsize=(15,15))\n",
    "fig.subplots_adjust(hspace=0.4, wspace=0.4)\n",
    "for i in range(1, 4):\n",
    "    ax = fig.add_subplot(3, 3, i), sns.distplot(df.query('Churn_rate == \"0\"')[not_bin_list[i-1]], kde=True),\n",
    "    sns.distplot(df.query('Churn_rate == \"1\"')[not_bin_list[i-1]], kde=True),\n",
    "    plt.legend(labels=['0','1'])\n",
    "    plt.title(label=not_bin_list[i-1])\n",
    "ax = fig.add_subplot(3, 3, 4), sns.countplot(x=\"Subscription_mth\", hue=\"Churn_rate\", data=df)\n",
    "ax = fig.add_subplot(3, 3, 5), sns.countplot(x=\"AVG_class_mth\", hue=\"Churn_rate\", data=df)"
   ]
  },
  {
   "cell_type": "code",
   "execution_count": 14,
   "metadata": {},
   "outputs": [
    {
     "data": {
      "image/png": "[encoded data removed]",
      "text/plain": [
       "<Figure size 1080x1080 with 5 Axes>"
      ]
     },
     "metadata": {
      "needs_background": "light"
     },
     "output_type": "display_data"
    }
   ],
   "source": [
    "fig = plt.figure(figsize=(15,15))\n",
    "fig.subplots_adjust(hspace=0.4, wspace=0.4)\n",
    "for i in range(1, 6):\n",
    "    ax = fig.add_subplot(3, 3, i), sns.barplot(x=\"Churn_rate\", y=dfgp[bin_list[i-1]], data=dfgp)\n",
    "    plt.title(label=bin_list[i-1])"
   ]
  },
  {
   "cell_type": "markdown",
   "metadata": {},
   "source": [
    "Посмотрим на матрицу корреляяций"
   ]
  },
  {
   "cell_type": "code",
   "execution_count": 15,
   "metadata": {},
   "outputs": [],
   "source": [
    "cm = df.corr()"
   ]
  },
  {
   "cell_type": "code",
   "execution_count": 16,
   "metadata": {},
   "outputs": [
    {
     "data": {
      "text/plain": [
       "<matplotlib.axes._subplots.AxesSubplot at 0x21d9d245d08>"
      ]
     },
     "execution_count": 16,
     "metadata": {},
     "output_type": "execute_result"
    },
    {
     "data": {
      "image/png": "[encoded data removed]",
      "text/plain": [
       "<Figure size 1152x576 with 2 Axes>"
      ]
     },
     "metadata": {
      "needs_background": "light"
     },
     "output_type": "display_data"
    }
   ],
   "source": [
    "plt.figure(figsize = (16,8))\n",
    "sns.heatmap(cm, annot = True)"
   ]
  },
  {
   "cell_type": "markdown",
   "metadata": {},
   "source": [
    "## Построим модель прогнозирования оттока пользователей"
   ]
  },
  {
   "cell_type": "markdown",
   "metadata": {},
   "source": [
    "Разобьем данные на обучающую и валидационную выборку функцией train_test_split()."
   ]
  },
  {
   "cell_type": "code",
   "execution_count": 17,
   "metadata": {},
   "outputs": [],
   "source": [
    "X = df.drop(['Churn_rate'], axis=1)\n",
    "y = df['Churn_rate']"
   ]
  },
  {
   "cell_type": "code",
   "execution_count": 18,
   "metadata": {},
   "outputs": [],
   "source": [
    "X_train, X_test, y_train, y_test = train_test_split(X, y, test_size=0.2, random_state=0)"
   ]
  },
  {
   "cell_type": "markdown",
   "metadata": {},
   "source": [
    "Стандартизируем данные"
   ]
  },
  {
   "cell_type": "code",
   "execution_count": 19,
   "metadata": {},
   "outputs": [],
   "source": [
    "scaler = StandardScaler()\n",
    "X_train_st = scaler.fit_transform(X_train)\n",
    "X_test_st = scaler.transform(X_test)"
   ]
  },
  {
   "cell_type": "markdown",
   "metadata": {},
   "source": [
    "Проведем прогнозирование на основе трех различных моделей"
   ]
  },
  {
   "cell_type": "code",
   "execution_count": 20,
   "metadata": {},
   "outputs": [
    {
     "data": {
      "text/plain": [
       "LogisticRegression(C=1.0, class_weight=None, dual=False, fit_intercept=True,\n",
       "                   intercept_scaling=1, l1_ratio=None, max_iter=100,\n",
       "                   multi_class='auto', n_jobs=None, penalty='l2',\n",
       "                   random_state=0, solver='lbfgs', tol=0.0001, verbose=0,\n",
       "                   warm_start=False)"
      ]
     },
     "execution_count": 20,
     "metadata": {},
     "output_type": "execute_result"
    }
   ],
   "source": [
    "model = LogisticRegression(random_state=0)\n",
    "# обучим модель\n",
    "model.fit(X_train_st, y_train)"
   ]
  },
  {
   "cell_type": "code",
   "execution_count": 21,
   "metadata": {},
   "outputs": [],
   "source": [
    "predictions = model.predict(X_test_st)"
   ]
  },
  {
   "cell_type": "code",
   "execution_count": 22,
   "metadata": {},
   "outputs": [
    {
     "name": "stdout",
     "output_type": "stream",
     "text": [
      "Accuracy: 0.90\n",
      "Precision: 0.81\n",
      "Recall: 0.79\n"
     ]
    }
   ],
   "source": [
    "print('Accuracy: {:.2f}'.format(accuracy_score(y_test, predictions)))\n",
    "print('Precision: {:.2f}'.format(precision_score(y_test, predictions)))\n",
    "print('Recall: {:.2f}'.format(recall_score(y_test, predictions)))"
   ]
  },
  {
   "cell_type": "code",
   "execution_count": 23,
   "metadata": {},
   "outputs": [
    {
     "data": {
      "text/plain": [
       "RandomForestClassifier(bootstrap=True, ccp_alpha=0.0, class_weight=None,\n",
       "                       criterion='gini', max_depth=None, max_features='auto',\n",
       "                       max_leaf_nodes=None, max_samples=None,\n",
       "                       min_impurity_decrease=0.0, min_impurity_split=None,\n",
       "                       min_samples_leaf=1, min_samples_split=2,\n",
       "                       min_weight_fraction_leaf=0.0, n_estimators=100,\n",
       "                       n_jobs=None, oob_score=False, random_state=0, verbose=0,\n",
       "                       warm_start=False)"
      ]
     },
     "execution_count": 23,
     "metadata": {},
     "output_type": "execute_result"
    }
   ],
   "source": [
    "rf_model = RandomForestClassifier(n_estimators = 100, random_state=0)\n",
    "rf_model.fit(X_train_st, y_train)"
   ]
  },
  {
   "cell_type": "code",
   "execution_count": 24,
   "metadata": {},
   "outputs": [],
   "source": [
    "rf_predictions = rf_model.predict(X_test_st)"
   ]
  },
  {
   "cell_type": "code",
   "execution_count": 25,
   "metadata": {},
   "outputs": [
    {
     "name": "stdout",
     "output_type": "stream",
     "text": [
      "Accuracy: 0.89\n",
      "Precision: 0.81\n",
      "Recall: 0.77\n"
     ]
    }
   ],
   "source": [
    "print('Accuracy: {:.2f}'.format(accuracy_score(y_test, rf_predictions)))\n",
    "print('Precision: {:.2f}'.format(precision_score(y_test, rf_predictions)))\n",
    "print('Recall: {:.2f}'.format(recall_score(y_test, rf_predictions)))"
   ]
  },
  {
   "cell_type": "code",
   "execution_count": 26,
   "metadata": {},
   "outputs": [
    {
     "data": {
      "text/plain": [
       "GradientBoostingClassifier(ccp_alpha=0.0, criterion='friedman_mse', init=None,\n",
       "                           learning_rate=0.1, loss='deviance', max_depth=3,\n",
       "                           max_features=None, max_leaf_nodes=None,\n",
       "                           min_impurity_decrease=0.0, min_impurity_split=None,\n",
       "                           min_samples_leaf=1, min_samples_split=2,\n",
       "                           min_weight_fraction_leaf=0.0, n_estimators=100,\n",
       "                           n_iter_no_change=None, presort='deprecated',\n",
       "                           random_state=0, subsample=1.0, tol=0.0001,\n",
       "                           validation_fraction=0.1, verbose=0,\n",
       "                           warm_start=False)"
      ]
     },
     "execution_count": 26,
     "metadata": {},
     "output_type": "execute_result"
    }
   ],
   "source": [
    "gb_model = GradientBoostingClassifier(n_estimators = 100, random_state=0)\n",
    "gb_model.fit(X_train_st, y_train)"
   ]
  },
  {
   "cell_type": "code",
   "execution_count": 27,
   "metadata": {},
   "outputs": [],
   "source": [
    "gb_pred = gb_model.predict(X_test_st)"
   ]
  },
  {
   "cell_type": "code",
   "execution_count": 28,
   "metadata": {},
   "outputs": [
    {
     "name": "stdout",
     "output_type": "stream",
     "text": [
      "Accuracy: 0.90\n",
      "Precision: 0.83\n",
      "Recall: 0.77\n"
     ]
    }
   ],
   "source": [
    "print('Accuracy: {:.2f}'.format(accuracy_score(y_test, gb_pred)))\n",
    "print('Precision: {:.2f}'.format(precision_score(y_test, gb_pred)))\n",
    "print('Recall: {:.2f}'.format(recall_score(y_test, gb_pred)))"
   ]
  },
  {
   "cell_type": "markdown",
   "metadata": {},
   "source": [
    "## Проведем кластеризацию"
   ]
  },
  {
   "cell_type": "markdown",
   "metadata": {},
   "source": [
    "Избавимся от признака оттока, номера телефона и стандартизируем данные"
   ]
  },
  {
   "cell_type": "code",
   "execution_count": 29,
   "metadata": {},
   "outputs": [],
   "source": [
    "df_nc = df.drop(columns=['Churn_rate', 'Phone']) # наличие телефона захламляет кластеры"
   ]
  },
  {
   "cell_type": "code",
   "execution_count": 30,
   "metadata": {},
   "outputs": [],
   "source": [
    "scaler = StandardScaler() \n",
    "x_sc = scaler.fit_transform(df_nc)"
   ]
  },
  {
   "cell_type": "markdown",
   "metadata": {},
   "source": [
    "Построим матрицу расстояний функцией linkage()"
   ]
  },
  {
   "cell_type": "code",
   "execution_count": 31,
   "metadata": {},
   "outputs": [],
   "source": [
    "linked = linkage(x_sc, method = 'ward')"
   ]
  },
  {
   "cell_type": "markdown",
   "metadata": {},
   "source": [
    "И дендрограмму"
   ]
  },
  {
   "cell_type": "code",
   "execution_count": 32,
   "metadata": {
    "scrolled": true
   },
   "outputs": [
    {
     "data": {
      "image/png": "[encoded data removed]",
      "text/plain": [
       "<Figure size 1080x720 with 1 Axes>"
      ]
     },
     "metadata": {
      "needs_background": "light"
     },
     "output_type": "display_data"
    }
   ],
   "source": [
    "plt.figure(figsize=(15, 10))  \n",
    "dendrogram(linked, orientation='top')\n",
    "plt.title('Hierarchial clustering for GYM')\n",
    "plt.show()"
   ]
  },
  {
   "cell_type": "code",
   "execution_count": 33,
   "metadata": {},
   "outputs": [],
   "source": [
    "# задаём модель k_means с числом кластеров 3\n",
    "km = KMeans(n_clusters = 3, random_state=0)\n",
    "# прогнозируем кластеры для наблюдений (алгоритм присваивает им номера от 0 до 2)\n",
    "labels = km.fit_predict(x_sc)"
   ]
  },
  {
   "cell_type": "code",
   "execution_count": 34,
   "metadata": {},
   "outputs": [],
   "source": [
    "df_nc['cluster_km'] = labels\n",
    "df_nc['Churn_rate'] = df['Churn_rate']"
   ]
  },
  {
   "cell_type": "code",
   "execution_count": 35,
   "metadata": {},
   "outputs": [
    {
     "data": {
      "text/html": [
       "<div>\n",
       "<style scoped>\n",
       "    .dataframe tbody tr th:only-of-type {\n",
       "        vertical-align: middle;\n",
       "    }\n",
       "\n",
       "    .dataframe tbody tr th {\n",
       "        vertical-align: top;\n",
       "    }\n",
       "\n",
       "    .dataframe thead th {\n",
       "        text-align: right;\n",
       "    }\n",
       "</style>\n",
       "<table border=\"1\" class=\"dataframe\">\n",
       "  <thead>\n",
       "    <tr style=\"text-align: right;\">\n",
       "      <th></th>\n",
       "      <th>cluster_km</th>\n",
       "      <th>Pool</th>\n",
       "      <th>Personal_coach</th>\n",
       "      <th>Friend_invite</th>\n",
       "      <th>Subscription_mth</th>\n",
       "      <th>Class_visits</th>\n",
       "      <th>Age</th>\n",
       "      <th>Revenue_mth</th>\n",
       "      <th>Lifetime</th>\n",
       "      <th>AVG_class_mth</th>\n",
       "      <th>Gender</th>\n",
       "      <th>Churn_rate</th>\n",
       "    </tr>\n",
       "  </thead>\n",
       "  <tbody>\n",
       "    <tr>\n",
       "      <th>0</th>\n",
       "      <td>0</td>\n",
       "      <td>0.997703</td>\n",
       "      <td>0.931087</td>\n",
       "      <td>0.744257</td>\n",
       "      <td>7.683767</td>\n",
       "      <td>0.517611</td>\n",
       "      <td>32.707504</td>\n",
       "      <td>5087.903522</td>\n",
       "      <td>4.698315</td>\n",
       "      <td>1.493874</td>\n",
       "      <td>0.493874</td>\n",
       "      <td>0.101838</td>\n",
       "    </tr>\n",
       "    <tr>\n",
       "      <th>1</th>\n",
       "      <td>1</td>\n",
       "      <td>0.000000</td>\n",
       "      <td>0.501786</td>\n",
       "      <td>0.076786</td>\n",
       "      <td>3.078571</td>\n",
       "      <td>0.239286</td>\n",
       "      <td>31.694643</td>\n",
       "      <td>4353.801786</td>\n",
       "      <td>3.087500</td>\n",
       "      <td>1.150000</td>\n",
       "      <td>0.494643</td>\n",
       "      <td>0.403571</td>\n",
       "    </tr>\n",
       "    <tr>\n",
       "      <th>2</th>\n",
       "      <td>2</td>\n",
       "      <td>1.000000</td>\n",
       "      <td>0.158899</td>\n",
       "      <td>0.062886</td>\n",
       "      <td>3.011230</td>\n",
       "      <td>0.394161</td>\n",
       "      <td>31.926446</td>\n",
       "      <td>4521.710837</td>\n",
       "      <td>3.250983</td>\n",
       "      <td>1.219540</td>\n",
       "      <td>0.529478</td>\n",
       "      <td>0.340258</td>\n",
       "    </tr>\n",
       "  </tbody>\n",
       "</table>\n",
       "</div>"
      ],
      "text/plain": [
       "   cluster_km      Pool  Personal_coach  Friend_invite  Subscription_mth  \\\n",
       "0           0  0.997703        0.931087       0.744257          7.683767   \n",
       "1           1  0.000000        0.501786       0.076786          3.078571   \n",
       "2           2  1.000000        0.158899       0.062886          3.011230   \n",
       "\n",
       "   Class_visits        Age  Revenue_mth  Lifetime  AVG_class_mth    Gender  \\\n",
       "0      0.517611  32.707504  5087.903522  4.698315       1.493874  0.493874   \n",
       "1      0.239286  31.694643  4353.801786  3.087500       1.150000  0.494643   \n",
       "2      0.394161  31.926446  4521.710837  3.250983       1.219540  0.529478   \n",
       "\n",
       "   Churn_rate  \n",
       "0    0.101838  \n",
       "1    0.403571  \n",
       "2    0.340258  "
      ]
     },
     "execution_count": 35,
     "metadata": {},
     "output_type": "execute_result"
    }
   ],
   "source": [
    "df_gp = df_nc.groupby('cluster_km').agg('mean').reset_index()\n",
    "df_gp"
   ]
  },
  {
   "cell_type": "code",
   "execution_count": 36,
   "metadata": {},
   "outputs": [
    {
     "data": {
      "text/plain": [
       "cluster_km\n",
       "0    1306\n",
       "1     560\n",
       "2    1781\n",
       "Name: Age, dtype: int64"
      ]
     },
     "execution_count": 36,
     "metadata": {},
     "output_type": "execute_result"
    }
   ],
   "source": [
    "df_nc.groupby('cluster_km').agg('count')['Age']"
   ]
  },
  {
   "cell_type": "markdown",
   "metadata": {},
   "source": [
    "Кластеризация с n>5 дает нам два лишние кластера. n4 - выделяет в отдельный кластер клиентов, не указавших мобильный телефон(может быть и техническим сбоем) и полностью дублирует средние значения признаков всей выборки. n5 - выделяет дополнительный кластер poll == 0"
   ]
  },
  {
   "cell_type": "code",
   "execution_count": 37,
   "metadata": {},
   "outputs": [
    {
     "data": {
      "image/png": "[encoded data removed]",
      "text/plain": [
       "<Figure size 1080x1080 with 5 Axes>"
      ]
     },
     "metadata": {
      "needs_background": "light"
     },
     "output_type": "display_data"
    }
   ],
   "source": [
    "fig = plt.figure(figsize=(15,15))\n",
    "fig.subplots_adjust(hspace=0.4, wspace=0.4)\n",
    "for i in range(1, 6):\n",
    "    ax = fig.add_subplot(3, 3, i), sns.boxplot(x=\"cluster_km\", y=df_nc[not_bin_list[i-1]], data=df_nc)\n",
    "    plt.title(label=not_bin_list[i-1])"
   ]
  },
  {
   "cell_type": "code",
   "execution_count": 38,
   "metadata": {},
   "outputs": [
    {
     "data": {
      "image/png": "[encoded data removed]",
      "text/plain": [
       "<Figure size 1080x1080 with 5 Axes>"
      ]
     },
     "metadata": {
      "needs_background": "light"
     },
     "output_type": "display_data"
    }
   ],
   "source": [
    "bin_list.remove('Phone')\n",
    "fig = plt.figure(figsize=(15,15))\n",
    "fig.subplots_adjust(hspace=0.4, wspace=0.4)\n",
    "for i in range(1, 6):\n",
    "    ax = fig.add_subplot(3, 3, i), sns.barplot(x=\"cluster_km\", y=df_gp[bin_list[i-1]], data=df_gp)\n",
    "    plt.title(label=bin_list[i-1])"
   ]
  }
 ],
 "metadata": {
  "kernelspec": {
   "display_name": "Python 3",
   "language": "python",
   "name": "python3"
  },
  "language_info": {
   "codemirror_mode": {
    "name": "ipython",
    "version": 3
   },
   "file_extension": ".py",
   "mimetype": "text/x-python",
   "name": "python",
   "nbconvert_exporter": "python",
   "pygments_lexer": "ipython3",
   "version": "3.7.6"
  }
 },
 "nbformat": 4,
 "nbformat_minor": 2
}
